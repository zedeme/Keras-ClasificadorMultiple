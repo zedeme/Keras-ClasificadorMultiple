{
  "nbformat": 4,
  "nbformat_minor": 0,
  "metadata": {
    "colab": {
      "name": "Keras-ClasificadorMultiple.ipynb",
      "provenance": [],
      "collapsed_sections": [],
      "authorship_tag": "ABX9TyOQO0DEijdcUpZ9PBkyStMc",
      "include_colab_link": true
    },
    "kernelspec": {
      "name": "python3",
      "display_name": "Python 3"
    },
    "language_info": {
      "name": "python"
    }
  },
  "cells": [
    {
      "cell_type": "markdown",
      "metadata": {
        "id": "view-in-github",
        "colab_type": "text"
      },
      "source": [
        "<a href=\"https://colab.research.google.com/github/zedeme/Keras-MultipleClassifier/blob/main/Keras_ClasificadorMultiple.ipynb\" target=\"_parent\"><img src=\"https://colab.research.google.com/assets/colab-badge.svg\" alt=\"Open In Colab\"/></a>"
      ]
    },
    {
      "cell_type": "code",
      "execution_count": 189,
      "metadata": {
        "id": "KhECFyqG-Q_I"
      },
      "outputs": [],
      "source": [
        "from tensorflow.keras import layers, models\n",
        "from tensorflow.keras.datasets import reuters\n",
        "import numpy as np\n",
        "from tensorflow.keras.utils import to_categorical\n",
        "import seaborn as sns\n",
        "from tensorflow.keras import regularizers"
      ]
    },
    {
      "cell_type": "code",
      "source": [
        "(train_data, train_labels), (test_data, test_labels) = reuters.load_data(num_words=10000)"
      ],
      "metadata": {
        "id": "AEZ8JOnb-o4W"
      },
      "execution_count": 190,
      "outputs": []
    },
    {
      "cell_type": "code",
      "source": [
        "word_index = reuters.get_word_index()\n",
        "word_index = dict([(value,key) for (key,value) in word_index.items()])\n",
        "for _ in train_data[0]:\n",
        "    print(word_index.get( _ - 3))"
      ],
      "metadata": {
        "colab": {
          "base_uri": "https://localhost:8080/"
        },
        "id": "2NaBJkMF-3cU",
        "outputId": "6fc023d8-2815-4706-8313-3a2a9fd33d67"
      },
      "execution_count": 191,
      "outputs": [
        {
          "output_type": "stream",
          "name": "stdout",
          "text": [
            "None\n",
            "None\n",
            "None\n",
            "said\n",
            "as\n",
            "a\n",
            "result\n",
            "of\n",
            "its\n",
            "december\n",
            "acquisition\n",
            "of\n",
            "space\n",
            "co\n",
            "it\n",
            "expects\n",
            "earnings\n",
            "per\n",
            "share\n",
            "in\n",
            "1987\n",
            "of\n",
            "1\n",
            "15\n",
            "to\n",
            "1\n",
            "30\n",
            "dlrs\n",
            "per\n",
            "share\n",
            "up\n",
            "from\n",
            "70\n",
            "cts\n",
            "in\n",
            "1986\n",
            "the\n",
            "company\n",
            "said\n",
            "pretax\n",
            "net\n",
            "should\n",
            "rise\n",
            "to\n",
            "nine\n",
            "to\n",
            "10\n",
            "mln\n",
            "dlrs\n",
            "from\n",
            "six\n",
            "mln\n",
            "dlrs\n",
            "in\n",
            "1986\n",
            "and\n",
            "rental\n",
            "operation\n",
            "revenues\n",
            "to\n",
            "19\n",
            "to\n",
            "22\n",
            "mln\n",
            "dlrs\n",
            "from\n",
            "12\n",
            "5\n",
            "mln\n",
            "dlrs\n",
            "it\n",
            "said\n",
            "cash\n",
            "flow\n",
            "per\n",
            "share\n",
            "this\n",
            "year\n",
            "should\n",
            "be\n",
            "2\n",
            "50\n",
            "to\n",
            "three\n",
            "dlrs\n",
            "reuter\n",
            "3\n"
          ]
        }
      ]
    },
    {
      "cell_type": "code",
      "source": [
        "def vectorizar(sequences, dim=10000):\n",
        "    restults = np.zeros((len(sequences),dim))\n",
        "    for i, sequences in enumerate(sequences):\n",
        "        restults[i,sequences]=1\n",
        "    return restults     "
      ],
      "metadata": {
        "id": "gMQMmyam-65F"
      },
      "execution_count": 192,
      "outputs": []
    },
    {
      "cell_type": "code",
      "source": [
        "x = vectorizar(train_data)\n",
        "x_test = vectorizar(test_data)"
      ],
      "metadata": {
        "id": "HpB7lLNf_ByJ"
      },
      "execution_count": 193,
      "outputs": []
    },
    {
      "cell_type": "code",
      "source": [
        "y = to_categorical(train_labels)\n",
        "y_test = to_categorical(test_labels)"
      ],
      "metadata": {
        "id": "RTLwBXj2_HxO"
      },
      "execution_count": 194,
      "outputs": []
    },
    {
      "cell_type": "code",
      "source": [
        "model = models.Sequential()\n",
        "model.add(layers.Dense(64, activation=\"relu\", input_shape=(10000,), kernel_regularizer=regularizers.l2(0.001)))\n",
        "model.add(layers.Dropout(0.5))\n",
        "model.add(layers.Dense(64, activation=\"relu\", kernel_regularizer=regularizers.l2(0.001)))\n",
        "model.add(layers.Dropout(0.5))\n",
        "model.add(layers.Dense(46, activation=\"softmax\"))"
      ],
      "metadata": {
        "id": "CHrkEts-_fWW"
      },
      "execution_count": 195,
      "outputs": []
    },
    {
      "cell_type": "code",
      "source": [
        "model.compile(optimizer=\"rmsprop\",\n",
        "              loss=\"categorical_crossentropy\",\n",
        "              metrics=[\"accuracy\"])"
      ],
      "metadata": {
        "id": "Y9noBk90ACIm"
      },
      "execution_count": 196,
      "outputs": []
    },
    {
      "cell_type": "code",
      "source": [
        "history = model.fit(x,y,epochs=9,batch_size=512,validation_split=0.3)"
      ],
      "metadata": {
        "colab": {
          "base_uri": "https://localhost:8080/"
        },
        "id": "SBD3PeEhBP3g",
        "outputId": "95d86f80-75fc-479f-8e7a-01fc908aa2e0"
      },
      "execution_count": 197,
      "outputs": [
        {
          "output_type": "stream",
          "name": "stdout",
          "text": [
            "Epoch 1/9\n",
            "13/13 [==============================] - 1s 66ms/step - loss: 3.2590 - accuracy: 0.3211 - val_loss: 2.2914 - val_accuracy: 0.5529\n",
            "Epoch 2/9\n",
            "13/13 [==============================] - 1s 49ms/step - loss: 2.3115 - accuracy: 0.5028 - val_loss: 1.8172 - val_accuracy: 0.6249\n",
            "Epoch 3/9\n",
            "13/13 [==============================] - 1s 49ms/step - loss: 1.9490 - accuracy: 0.5725 - val_loss: 1.5919 - val_accuracy: 0.6727\n",
            "Epoch 4/9\n",
            "13/13 [==============================] - 1s 48ms/step - loss: 1.7400 - accuracy: 0.6246 - val_loss: 1.4887 - val_accuracy: 0.6935\n",
            "Epoch 5/9\n",
            "13/13 [==============================] - 1s 47ms/step - loss: 1.6108 - accuracy: 0.6504 - val_loss: 1.4152 - val_accuracy: 0.7102\n",
            "Epoch 6/9\n",
            "13/13 [==============================] - 1s 48ms/step - loss: 1.4974 - accuracy: 0.6803 - val_loss: 1.3594 - val_accuracy: 0.7184\n",
            "Epoch 7/9\n",
            "13/13 [==============================] - 1s 47ms/step - loss: 1.4318 - accuracy: 0.6929 - val_loss: 1.3275 - val_accuracy: 0.7299\n",
            "Epoch 8/9\n",
            "13/13 [==============================] - 1s 47ms/step - loss: 1.3526 - accuracy: 0.7131 - val_loss: 1.2982 - val_accuracy: 0.7362\n",
            "Epoch 9/9\n",
            "13/13 [==============================] - 1s 48ms/step - loss: 1.3087 - accuracy: 0.7274 - val_loss: 1.2744 - val_accuracy: 0.7432\n"
          ]
        }
      ]
    },
    {
      "cell_type": "code",
      "source": [
        "sns.set(rc={\"figure.figsize\": (15,9)})"
      ],
      "metadata": {
        "id": "XFzFju-0CDq0"
      },
      "execution_count": 198,
      "outputs": []
    },
    {
      "cell_type": "code",
      "source": [
        "sns.lineplot(x=range(0,9), y=history.history[\"val_accuracy\"])"
      ],
      "metadata": {
        "colab": {
          "base_uri": "https://localhost:8080/",
          "height": 558
        },
        "id": "9mNYKj0wBjLY",
        "outputId": "a2e059af-e6af-4846-a459-94218525dad1"
      },
      "execution_count": 199,
      "outputs": [
        {
          "output_type": "execute_result",
          "data": {
            "text/plain": [
              "<matplotlib.axes._subplots.AxesSubplot at 0x7f9321fdd5d0>"
            ]
          },
          "metadata": {},
          "execution_count": 199
        },
        {
          "output_type": "display_data",
          "data": {
            "text/plain": [
              "<Figure size 1080x648 with 1 Axes>"
            ],
            "image/png": "[encoded data removed]"
          },
          "metadata": {}
        }
      ]
    },
    {
      "cell_type": "code",
      "source": [
        "sns.lineplot(x=range(0,9), y=history.history[\"val_loss\"])"
      ],
      "metadata": {
        "colab": {
          "base_uri": "https://localhost:8080/",
          "height": 558
        },
        "id": "UXuVlyEPB8PY",
        "outputId": "8c0fd03d-a8bf-40a9-9c87-cb671b75ed4a"
      },
      "execution_count": 200,
      "outputs": [
        {
          "output_type": "execute_result",
          "data": {
            "text/plain": [
              "<matplotlib.axes._subplots.AxesSubplot at 0x7f9321fde750>"
            ]
          },
          "metadata": {},
          "execution_count": 200
        },
        {
          "output_type": "display_data",
          "data": {
            "text/plain": [
              "<Figure size 1080x648 with 1 Axes>"
            ],
            "image/png": "[encoded data removed]"
          },
          "metadata": {}
        }
      ]
    },
    {
      "cell_type": "code",
      "source": [
        "model.evaluate(x_test, y_test)"
      ],
      "metadata": {
        "colab": {
          "base_uri": "https://localhost:8080/"
        },
        "id": "RVItyEV0B-6s",
        "outputId": "bfd7562f-3f61-4135-ffd3-27ca3f1394e3"
      },
      "execution_count": 201,
      "outputs": [
        {
          "output_type": "stream",
          "name": "stdout",
          "text": [
            "71/71 [==============================] - 0s 3ms/step - loss: 1.3510 - accuracy: 0.7235\n"
          ]
        },
        {
          "output_type": "execute_result",
          "data": {
            "text/plain": [
              "[1.351029872894287, 0.7235084772109985]"
            ]
          },
          "metadata": {},
          "execution_count": 201
        }
      ]
    },
    {
      "cell_type": "code",
      "source": [
        "predict = model.predict(x_test)"
      ],
      "metadata": {
        "id": "2wvhZDzVCdRy"
      },
      "execution_count": 202,
      "outputs": []
    },
    {
      "cell_type": "code",
      "source": [
        "predict[0]"
      ],
      "metadata": {
        "colab": {
          "base_uri": "https://localhost:8080/"
        },
        "id": "Nt_-eISiEDOa",
        "outputId": "f51ce344-7b74-4a7f-b1d8-806e64a9c9c8"
      },
      "execution_count": 203,
      "outputs": [
        {
          "output_type": "execute_result",
          "data": {
            "text/plain": [
              "array([1.2258958e-04, 1.4914933e-03, 1.3529166e-04, 8.3641744e-01,\n",
              "       1.2780173e-01, 1.9035155e-05, 2.5749492e-04, 9.5868934e-05,\n",
              "       2.1877228e-03, 3.5726247e-04, 5.3646206e-04, 2.1554152e-03,\n",
              "       1.6318542e-04, 1.2645627e-03, 9.9020959e-05, 5.1792627e-05,\n",
              "       1.5588228e-02, 2.4690438e-04, 3.1285381e-04, 1.9144150e-03,\n",
              "       4.1809226e-03, 6.3515146e-04, 4.0156017e-05, 3.6573000e-04,\n",
              "       1.2519606e-04, 1.0713394e-03, 1.0211094e-04, 7.4306772e-05,\n",
              "       1.4881998e-04, 9.6345626e-05, 1.5066859e-04, 1.9059614e-04,\n",
              "       1.0135255e-04, 4.4763110e-05, 4.2626276e-04, 3.6707319e-05,\n",
              "       2.6019596e-04, 2.8026840e-05, 7.2860865e-05, 1.5142327e-04,\n",
              "       1.6147493e-04, 8.7785542e-05, 2.8901124e-05, 1.1674009e-04,\n",
              "       2.3467224e-05, 6.0034508e-05], dtype=float32)"
            ]
          },
          "metadata": {},
          "execution_count": 203
        }
      ]
    },
    {
      "cell_type": "code",
      "source": [
        "np.argmax(predict[0])"
      ],
      "metadata": {
        "colab": {
          "base_uri": "https://localhost:8080/"
        },
        "id": "boQNHpBGEGfM",
        "outputId": "1cc993b9-e959-4fac-9c38-82af40149817"
      },
      "execution_count": 204,
      "outputs": [
        {
          "output_type": "execute_result",
          "data": {
            "text/plain": [
              "3"
            ]
          },
          "metadata": {},
          "execution_count": 204
        }
      ]
    },
    {
      "cell_type": "code",
      "source": [
        "test_labels[np.argmax(predict[0])]"
      ],
      "metadata": {
        "colab": {
          "base_uri": "https://localhost:8080/"
        },
        "id": "jVg92ALPEh5R",
        "outputId": "947de21b-a60c-4833-904d-41219eaead94"
      },
      "execution_count": 205,
      "outputs": [
        {
          "output_type": "execute_result",
          "data": {
            "text/plain": [
              "4"
            ]
          },
          "metadata": {},
          "execution_count": 205
        }
      ]
    },
    {
      "cell_type": "code",
      "source": [
        ""
      ],
      "metadata": {
        "id": "AfN7W6sRFM1w"
      },
      "execution_count": 205,
      "outputs": []
    }
  ]
}